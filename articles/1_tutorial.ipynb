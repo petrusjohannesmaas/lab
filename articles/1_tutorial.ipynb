{
 "cells": [
  {
   "cell_type": "markdown",
   "id": "8fe8d8a2-6c14-4843-b5bb-4b847dc560a6",
   "metadata": {},
   "source": [
    "## **Tutorial**"
   ]
  },
  {
   "cell_type": "markdown",
   "id": "4706086d",
   "metadata": {},
   "source": [
    "##### This is a paragraph that introduces the user to what exactly they are looking at and describes what's going on in a little bit of detail. This will help them get some context as to exactly what's going on, where to click and what this whole project is about."
   ]
  },
  {
   "cell_type": "markdown",
   "id": "0075c61a",
   "metadata": {},
   "source": [
    "### **Skilltree:**\n",
    "\n",
    "```json\n",
    "{\n",
    "  \"Operating Systems\": {\n",
    "    \"articles\": [\n",
    "      \"Linux Development Server\",\n",
    "      \"Jupyter Notebook Terminal\"\n",
    "    ],\n",
    "    \"Program\": \"resource_monitor.py\"\n",
    "  },\n",
    "  \"Programming languages\": {\n",
    "    \"articles\": [\n",
    "      \"Python Fundamentals\",\n",
    "      \"JSON Data Handling\"\n",
    "    ],\n",
    "    \"Program\": \"study.py\"\n",
    "  },\n",
    "  \"Database Management\": {\n",
    "    \"articles\": [\n",
    "      \"Relational Databases\"\n",
    "      \"Document Oriented Databases\"\n",
    "    ],\n",
    "    \"Program\": \"passwords.py\"\n",
    "  },\n",
    "  \"Libraries\": {\n",
    "    \"articles\": [\n",
    "      \"Rich CLI Applications\",\n",
    "      \"FastAPI Web Development\"\n",
    "    ],\n",
    "    \"Program\": \"report.py\"\n",
    "  }\n",
    "}\n",
    "```"
   ]
  }
 ],
 "metadata": {
  "kernelspec": {
   "display_name": ".venv",
   "language": "python",
   "name": "python3"
  },
  "language_info": {
   "codemirror_mode": {
    "name": "ipython",
    "version": 3
   },
   "file_extension": ".py",
   "mimetype": "text/x-python",
   "name": "python",
   "nbconvert_exporter": "python",
   "pygments_lexer": "ipython3",
   "version": "3.13.0"
  }
 },
 "nbformat": 4,
 "nbformat_minor": 5
}
