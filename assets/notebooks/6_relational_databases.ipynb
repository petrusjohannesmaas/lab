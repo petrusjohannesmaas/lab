{
 "cells": [
  {
   "cell_type": "markdown",
   "metadata": {},
   "source": [
    "# Relational Databases\n",
    "\n",
    "### What is a relational database?\n",
    "\n",
    "Relational databases organize data into rows and columns, forming tables where data points relate to each other. These databases often consist of multiple tables connected via primary or foreign keys, illustrating the relationships through various data models. SQL queries are used to combine these data points, providing insights, optimizing workflows, and identifying opportunities for businesses. For instance, a company might have a table with customer information and another with transaction details. Together, these tables can reveal the industries purchasing specific software products, the number of transactions, and the total revenue generated etc..\n",
    "\n",
    "Relational databases are essential for managing structured data, ensuring reliable transactions through ACID compliance, and enabling complex data manipulation with SQL. Client/server SQL databases like MySQL and PostgreSQL focus on scalability and centralization, while SQLite offers a lightweight, embedded solution without requiring a separate server process. This makes SQLite ideal for quick deployments and local storage needs."
   ]
  },
  {
   "cell_type": "markdown",
   "metadata": {},
   "source": [
    "**Resources:**\n",
    "\n",
    "* When to use SQlite: https://www.sqlite.org/whentouse.html\n",
    "* Official Turso quickstart: https://docs.turso.tech/quickstart\n"
   ]
  },
  {
   "cell_type": "markdown",
   "metadata": {},
   "source": [
    "### Communicating with a Relational Database\n",
    "\n",
    "SQL is a standard language for interacting with databases. It is used to create, read, update, and delete data in a database. SQL queries are written in the form of a string and are executed by the database engine. As a simple example of this, let's have a look at how we can insert, retrieve, update, and delete data from a database using SQL.\n",
    "\n",
    "**The quickest way to get started with Relational databases is by doing the following:**\n",
    "\n",
    "```bash\n",
    "# Install sqlite3\n",
    "brew install sqlite\n",
    "\n",
    "# Confirm sqlite3 is managed by Homebrew\n",
    "which sqlite3\n",
    "\n",
    "# Create a new database\n",
    "sqlite3 my-db.db\n",
    "```"
   ]
  },
  {
   "cell_type": "markdown",
   "metadata": {},
   "source": [
    "#### Example queries for a relational database\n",
    "\n",
    "**Note:** *The following queries are for demonstration purposes only. They are not intended to be used in production you should always hash or encrypt your passwords before storing them in a database.*\n",
    "\n",
    "```sql\n",
    "-- Create a Table to Store Passwords\n",
    "CREATE TABLE passwords (\n",
    "    id INTEGER PRIMARY KEY,\n",
    "    description TEXT NOT NULL,\n",
    "    username TEXT NOT NULL,\n",
    "    password TEXT NOT NULL\n",
    ");\n",
    "\n",
    "-- Query to Insert a New Password\n",
    "INSERT INTO passwords (id, description, username, password)\n",
    "VALUES (1, 'Gmail', 'user@gmail.com', 'encryptedpassword');\n",
    "\n",
    "-- Add a second entry if you'd like\n",
    "INSERT INTO passwords (id, description, username, password)\n",
    "VALUES (2, 'Discord', 'user@discord.com', 'hashedpassword');\n",
    "\n",
    "-- Query to Retrieve All Passwords\n",
    "SELECT * FROM passwords;\n",
    "\n",
    "-- Query to Retrieve a Specific Password\n",
    "SELECT * FROM passwords\n",
    "WHERE description = 'Gmail';\n",
    "\n",
    "-- Query to Update an Existing Password\n",
    "UPDATE passwords\n",
    "SET password = 'newencryptedpassword'\n",
    "WHERE description = 'Discord';\n",
    "\n",
    "-- Query to Delete a Specific Record\n",
    "DELETE FROM passwords\n",
    "WHERE description = 'Gmail';\n",
    "\n",
    "-- Query to Retrieve Passwords for a Specific Username\n",
    "SELECT * FROM passwords\n",
    "WHERE username = 'user@discord.com';\n",
    "```"
   ]
  },
  {
   "cell_type": "markdown",
   "metadata": {},
   "source": []
  }
 ],
 "metadata": {
  "language_info": {
   "name": "python"
  }
 },
 "nbformat": 4,
 "nbformat_minor": 2
}
