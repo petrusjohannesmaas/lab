{
 "cells": [
  {
   "cell_type": "markdown",
   "id": "8fe8d8a2-6c14-4843-b5bb-4b847dc560a6",
   "metadata": {},
   "source": [
    "## **Tutorial**"
   ]
  },
  {
   "cell_type": "markdown",
   "id": "4706086d",
   "metadata": {},
   "source": [
    "##### The articles and programs are categorized into a natural order of skills and tools that need to be learned in order to be able to code, build and deploy applications.\n",
    "\n",
    "**Some of the topics covered range from:**\n",
    "\n",
    "* How to configure a Debian computer for coding, development and daily use.\n",
    "* The fundamentals of Python, Javascript and SQL.\n",
    "* Databases\n",
    "* ORM's and external libraries for Python"
   ]
  },
  {
   "cell_type": "markdown",
   "id": "0075c61a",
   "metadata": {},
   "source": [
    "### **Articles:**\n",
    "\n",
    "```json\n",
    "{\n",
    "  \"Operating Systems\": {\n",
    "    \"articles\": [\n",
    "      \"Linux Development Server\",\n",
    "      \"Jupyter Notebook Terminal\"\n",
    "    ],\n",
    "    \"program\": \"markdown.py\"\n",
    "  },\n",
    "\n",
    "  \"Programming languages\": {\n",
    "    \"articles\": [\n",
    "      \"Python Fundamentals\",\n",
    "      \"JSON Data Handling\"\n",
    "    ],\n",
    "    \"program\": \"study.py\"\n",
    "  },\n",
    "\n",
    "  \"Database Management\": {\n",
    "    \"articles\": [\n",
    "      \"Relational Databases\"\n",
    "      \"Document Oriented Databases\"\n",
    "    ],\n",
    "    \"program\": \"passwords.py\"\n",
    "  },\n",
    "  \n",
    "  \"Libraries\": {\n",
    "    \"articles\": [\n",
    "      \"Rich CLI Applications\",\n",
    "      \"FastAPI Web Development\"\n",
    "    ],\n",
    "    \"program\": \"report.py\"\n",
    "  }\n",
    "}\n",
    "```"
   ]
  },
  {
   "cell_type": "markdown",
   "id": "fdc3b658",
   "metadata": {},
   "source": [
    "### Resources:\n",
    "* Python Institute - https://python.institute/\n",
    "* Reference roadmap: https://github.com/Petrus-Johannes/Python-Roadmap"
   ]
  }
 ],
 "metadata": {
  "kernelspec": {
   "display_name": ".venv",
   "language": "python",
   "name": "python3"
  },
  "language_info": {
   "codemirror_mode": {
    "name": "ipython",
    "version": 3
   },
   "file_extension": ".py",
   "mimetype": "text/x-python",
   "name": "python",
   "nbconvert_exporter": "python",
   "pygments_lexer": "ipython3",
   "version": "3.13.0"
  }
 },
 "nbformat": 4,
 "nbformat_minor": 5
}
