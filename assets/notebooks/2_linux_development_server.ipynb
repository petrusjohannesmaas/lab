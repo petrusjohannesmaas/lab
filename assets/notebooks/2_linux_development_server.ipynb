{
 "cells": [
  {
   "cell_type": "markdown",
   "metadata": {},
   "source": [
    "# Linux Development Server"
   ]
  },
  {
   "cell_type": "markdown",
   "metadata": {},
   "source": [
    "* **If you want a more detailed process, here is the official Debian GNU/Linux Installation Guide:**\n",
    "     https://www.debian.org/releases/stable/amd64/index.en.html"
   ]
  },
  {
   "cell_type": "markdown",
   "metadata": {},
   "source": [
    "### Preperation"
   ]
  },
  {
   "cell_type": "markdown",
   "metadata": {},
   "source": [
    "**1) Define your host system architecture by typing this in your terminal:**\n",
    "\n",
    "```bash\n",
    "# If you're on windows\n",
    "msinfo32\n",
    "\n",
    "#If you're on Linux\n",
    "lscpu\n",
    "```\n",
    "\n",
    "**This is the system I am installing on:**\n",
    "```json\n",
    "{\n",
    "    \"Processor\": \"AMD Ryzen 5 3600 6-Core Processor, 3600 Mhz, 6 Core(s), 12 Logical Processor(s)\",\n",
    "    \"BIOS Version/Date\": \"American Megatrends International, LLC. H.C0, 5/18/2021\",\n",
    "    \"System type\": \"x64-based PC\",\n",
    "    \"Installed Physical Memory (RAM)\": \"16.0 GB\",\n",
    "    \"Display\": \"NVIDIA GeForce GT 1030\"\n",
    "}\n",
    "```"
   ]
  },
  {
   "cell_type": "markdown",
   "metadata": {},
   "source": [
    "**2) Create a bootable USB drive with the downloaded image.**\n",
    " \n",
    "You can use [Rufus](https://rufus.ie/) on Windows or follow the [Official Debian guide](https://www.debian.org/releases/stable/amd64/ch04s03.en.html) for doing it on Linux.\n",
    "\n",
    "> *\"To create a bootable USB drive from Microsoft Windows or Mac OS a usable choice is Rufus. Warning: Rufus has 2 writing modes \"ISO\" and \"DD\" mode, which you can select just before writing begins. For Debian installer images or Debian live images, you MUST select the \"DD\" writing mode -- ISO mode will alter the copy of the image on the target media (confirmed August 27, 2021, using rufus version 3.15).\" \n",
    "~ Debian documentation*"
   ]
  },
  {
   "cell_type": "markdown",
   "metadata": {},
   "source": [
    "---"
   ]
  },
  {
   "cell_type": "markdown",
   "metadata": {},
   "source": [
    "### ☠️ Before continuing:\n",
    "\n",
    "* Back up your data if you're going to install this on the same computer you use for the server.\n",
    "* Make sure you know how to set your computer's default boot order from the BIOS.\n",
    "* If you don't know how to do this, **LinkedIn** made a guide on doing this that you can [follow by clicking here](https://www.linkedin.com/advice/0/how-do-you-customize-bios-boot-options). "
   ]
  },
  {
   "cell_type": "markdown",
   "metadata": {},
   "source": [
    "---"
   ]
  },
  {
   "cell_type": "markdown",
   "metadata": {},
   "source": [
    "### Debian installation"
   ]
  },
  {
   "cell_type": "markdown",
   "metadata": {},
   "source": [
    "**3) Boot the computer with the Debian installation USB/CD**\n",
    "\n",
    "If you want to be the only user, disable the root account and create a new user with sudo privileges."
   ]
  },
  {
   "cell_type": "markdown",
   "metadata": {},
   "source": [
    "**4) Configure the installation:**\n",
    "\n",
    "In my case I am setting up this computer for my office so that other engineers can write scripts, collaborate and configure hardware with a well maintained system.\n",
    "\n",
    "```text\n",
    "    |-creating a root user (for sysadmin) with a password\n",
    "    |--creating a user named administrator (for the engineers) with a password\n",
    "    |---Full partition encryption\n",
    "    |----Proxy configuration skipped (for now)\n",
    "    |-----GNOME desktop environment\n",
    "    |------SSH server for remote management"
   ]
  },
  {
   "cell_type": "markdown",
   "metadata": {},
   "source": [
    "**5) Developer experience configuration:**\n",
    "\n",
    "* `ALT+F2` you can run commands instead of using your mouse. Try it by typing `firefox` in the command box. \n",
    "* For a simpler UI/UX I am going to be optimizing the GUI with the *JustPerfection* GNOME extention: [Click here for the link](https://extensions.gnome.org/extension/3843/just-perfection/)\n",
    "* After you've installed it, head to the `Extensions` app in Debian and configure it to your liking\n",
    "\n",
    "**6) Install an integrated development environment:**\n",
    "\n",
    "Run the following command to start the Visual Studio Code download for Debian: \n",
    "\n",
    "`firefox https://code.visualstudio.com/docs/?dv=linux64_deb`\n",
    "\n",
    "* Right click on the downloaded file and select `Open with...` then `Software Install` and press the install button\n",
    "* You can now close all your windows and run the `code` command to open Visual Studio Code\n",
    "* You need to select a monospace font for the terminal by heading to `Settings`\n",
    "* I personally prefer to use Lekton: [Download the Nerd Font](https://github.com/ryanoasis/nerd-fonts/releases/download/v3.2.1/Lekton.zip)"
   ]
  },
  {
   "cell_type": "markdown",
   "metadata": {},
   "source": [
    "**7) Use Visual Studio Code's integrated terminal to grant permissions to the server.**\n",
    "* run `su - ` to log in as the root user\n",
    "* run `usermod -aG sudo administrator` to add the administrator user to the sudo group\n",
    "* Log out of root by running `su - administrator`\n",
    "* run `exit` to close the terminal\n",
    "\n",
    "It is good practise to restart the computer after making changes to the sudoers file."
   ]
  },
  {
   "cell_type": "markdown",
   "metadata": {},
   "source": [
    "**8) Run the following commands to update and upgrade the final things for your Debian installation:**\n",
    "* (This will not work if you didn't restart)\n",
    "```bash\n",
    "sudo apt update\n",
    "sudo apt upgrade\n",
    "```"
   ]
  },
  {
   "cell_type": "markdown",
   "metadata": {},
   "source": [
    "**9) Set up Visual Studio Code for Remote Access:**\n",
    "\n",
    "* Log in with your Github account and enable settings sync to store your terminal configuration on the cloud\n",
    "* Enable Remote Access for when ever the computer is logged on."
   ]
  },
  {
   "cell_type": "markdown",
   "metadata": {},
   "source": [
    "**You have successfully configured your development server!**"
   ]
  },
  {
   "cell_type": "markdown",
   "metadata": {},
   "source": [
    "### Next steps:"
   ]
  },
  {
   "cell_type": "markdown",
   "metadata": {},
   "source": [
    "* This manual is part of a series of projects I am working on. If you would like to learn more go to my [roadmap](github.com/petrusjohannesmaas/research-lab.html)\n"
   ]
  },
  {
   "cell_type": "markdown",
   "metadata": {},
   "source": []
  }
 ],
 "metadata": {
  "kernelspec": {
   "display_name": ".venv",
   "language": "python",
   "name": "python3"
  },
  "language_info": {
   "name": "python",
   "version": "3.13.0"
  }
 },
 "nbformat": 4,
 "nbformat_minor": 2
}
