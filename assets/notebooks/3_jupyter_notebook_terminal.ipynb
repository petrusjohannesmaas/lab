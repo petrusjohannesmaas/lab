{
 "cells": [
  {
   "cell_type": "markdown",
   "metadata": {},
   "source": [
    "# Jupiter Notebooks Terminal"
   ]
  },
  {
   "cell_type": "markdown",
   "metadata": {},
   "source": [
    "##### One way to write programs is to use a text editor and then run them with Python on its own. \n",
    "\n",
    "But, most programmers prefer a programming environment (like this one) that simplifies writing programs and lets you run them with just one click. Usually, when you run a program, you see some visual output, but this is not always the case.\n",
    "\n",
    "A programming environment is a software tool that helps you make programs. It has three parts: an editor, an interpreter, and a console. The editor is where you write your code. The interpreter is what runs your code. The console is where you see what your code does. A good programming environment can also help you with coding features like colors, suggestions, and error checking."
   ]
  },
  {
   "cell_type": "markdown",
   "metadata": {},
   "source": [
    "Using Jupyter Notebooks is a really convenient way to write articles, make markdown files, and most also: use it to test code. But if you've used it before you'll know that there are some drawbacks to using it as a coding environment compared to something like Visual Studio Code.\n",
    "\n",
    "With all the extentions available in Visual Studio Code, you can do a lot of things that you can't do in Jupyter Notebooks. For example, you can manage Docker containers, bla bla bla"
   ]
  },
  {
   "cell_type": "markdown",
   "metadata": {},
   "source": [
    "___"
   ]
  },
  {
   "cell_type": "markdown",
   "metadata": {},
   "source": [
    "### **Configure the operating system**\n",
    "\n",
    "I am doing exactly the same configuration as in my other manual where I configure a Debian system. Instructions can be found by [clicking here](./1_linux_development_server.ipynb)\n"
   ]
  },
  {
   "cell_type": "markdown",
   "metadata": {},
   "source": [
    "**1) Set up your interpreter:**\n",
    "\n",
    "```bash\n",
    "# Install Homebrew (and follow the instructions)\n",
    "/bin/bash -c \"$(curl -fsSL https://raw.githubusercontent.com/Homebrew/install/HEAD/install.sh)\"\n",
    "\n",
    "# Install Python\n",
    "brew install python@3.xx # Replace xx with the version you want\n",
    "```\n",
    "\n",
    "After installing Python and Homebrew you have to restart your computer before continuing. Open your command palette (Ctrl + Shift + P), type in: `Python: Select Interpreter` and choose the Linuxbrew path."
   ]
  },
  {
   "cell_type": "markdown",
   "metadata": {},
   "source": [
    "___"
   ]
  },
  {
   "cell_type": "markdown",
   "metadata": {},
   "source": [
    "### **Set up developer tools**\n",
    "\n",
    "**2) Install the following extensions in VSCode:**\n",
    "\n",
    "* Python (Language support + Debugging)\n",
    "* Jupyter Notebook (Extension pack for full notebook support)\n",
    "* Black Formatter (Auto formatting)\n",
    "* Pylance (Intellisense)\n",
    "* Remote - SSH (Remote development)\n",
    "* SQL Tools (Database management)\n",
    "* SQL Drivers (For MariaDB)\n",
    "\n",
    "Your computer is now configured to write `ipynb` and `.py` files with rich support, linting, formatting and debugging. "
   ]
  },
  {
   "cell_type": "markdown",
   "metadata": {},
   "source": [
    "---"
   ]
  },
  {
   "cell_type": "markdown",
   "metadata": {},
   "source": [
    "### **Virtual Environments**\n",
    "\n",
    "**3) Type these commands in the command pallet**\n",
    "* `Python: Clear Cache and Reload Window`\n",
    "* `Create: New Jupyter Notebook`\n",
    "* `Python: New Python File`\n",
    "* `Python: Create Environment` and select your interpreter from the list\n",
    "\n",
    "If you open up your terminal you'll now be in the virtual environment where you need to install the `jupyter` package to run Jupyter Notebook cells, export to multiple formats and run Python tests:\n",
    "\n",
    "```bash\n",
    "pip install jupyter\n",
    "```\n",
    "\n",
    "**Your terminal is now successfully set up to run Jupyter Notebook and Python programs!**"
   ]
  },
  {
   "cell_type": "markdown",
   "metadata": {},
   "source": [
    "---"
   ]
  },
  {
   "cell_type": "markdown",
   "metadata": {},
   "source": [
    "### **Remote Access**\n",
    "\n",
    "**4) Set up your terminal to use the remote server:**\n",
    "\n",
    "* If your account sync is set up with your Github account, these extensions and preferences should translate automatically to all your terminals that you install Visual Studio Code on.\n",
    "* Also, you can access the remote server from your local machine with `Remote Tunnels` you can find Microsoft's official guide on how to do this here: https://code.visualstudio.com/docs/remote/ssh\n",
    "\n",
    "\n",
    "Now we can start documenting our research, using remote connections and writing Python programs.\n",
    "\n",
    "---"
   ]
  }
 ],
 "metadata": {
  "language_info": {
   "name": "python"
  }
 },
 "nbformat": 4,
 "nbformat_minor": 2
}
