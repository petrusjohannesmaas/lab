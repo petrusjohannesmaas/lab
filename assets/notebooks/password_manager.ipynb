{
 "cells": [
  {
   "cell_type": "markdown",
   "metadata": {},
   "source": [
    "# Passwords\n",
    "\n",
    "## Introduction\n",
    "\n",
    "This manual is going to illustrate how I have created a secure CLI password manager that is cloud based using Python and a MariaDB database hosted on a DigitalOcean droplet. The password manager will allow you to store, retrieve, and update passwords in a secure and encrypted manner. It will also allow you to generate strong passwords for you to use.\n",
    "\n",
    "## Project overview\n",
    "\n",
    "The project is divided into three main parts:\n",
    "\n",
    "```text\n",
    "1. The CLI password manager\n",
    "2. The database schema\n",
    "3. The database connection\n",
    "```\n",
    "\n",
    "### 1. The CLI password manager\n",
    "\n",
    "The CLI password manager is a Python script that allows you to store, retrieve, and update passwords in a secure and encrypted manner. It uses the Fernet encryption method to encrypt and decrypt passwords before storing them in the database. The Fernet encryption method is a symmetric encryption method that uses a shared secret key to encrypt and decrypt data."
   ]
  },
  {
   "cell_type": "markdown",
   "metadata": {},
   "source": [
    "**First you'll need a encryption key. I created a small script to generate one.**"
   ]
  },
  {
   "cell_type": "markdown",
   "metadata": {},
   "source": [
    "```python\n",
    "from cryptography.fernet import Fernet\n",
    "\n",
    "def generate_key():\n",
    "    # Generate a key\n",
    "    key = Fernet.generate_key()\n",
    "\n",
    "    # Display the key\n",
    "    print(f\"Your encryption key: {key.decode()}\")\n",
    "    print(\n",
    "        \"Write this key down somewhere safe. You'll need it to encrypt and decrypt your data.\"\n",
    "    )\n",
    "\n",
    "if __name__ == \"__main__\":\n",
    "    generate_key()\n",
    "```"
   ]
  },
  {
   "cell_type": "markdown",
   "metadata": {},
   "source": [
    "**Pseudo-code for the passwords program:**"
   ]
  },
  {
   "cell_type": "markdown",
   "metadata": {},
   "source": [
    "```text\n",
    "1. Import necessary libraries for encryption, database connection, and SSH tunneling\n",
    "\n",
    "2. Define SSH and database connection parameters\n",
    "\n",
    "3. Function to load encryption key from user input\n",
    "\n",
    "4. Function to open SSH tunnel and connect to remote server\n",
    "\n",
    "5. Function to connect to MySQL database\n",
    "\n",
    "6. Function to disconnect from MySQL database\n",
    "\n",
    "7. Function to close SSH tunnel\n",
    "\n",
    "8. Function to run SQL queries and return results as a pandas DataFrame\n",
    "\n",
    "9. Application logic: \n",
    "   * a. Display application banner\n",
    "   * b. Load encryption key from user input\n",
    "   * c. Validate the encryption key\n",
    "   * d. Open SSH tunnel and connect to MariaDB database\n",
    "   * e. Enter main loop:\n",
    "\n",
    "10. Execute the main function\n",
    "```"
   ]
  },
  {
   "cell_type": "markdown",
   "metadata": {},
   "source": [
    "### The main loop:\n",
    "\n",
    "With the while loop we can execute a set of statements as long as a condition is true. In this case, we want to keep looping until the user enters the exit command. We can use the input function to get user input and store it in the choice variable. If the user enters exit, we break out of the loop and exit the program."
   ]
  },
  {
   "cell_type": "markdown",
   "metadata": {},
   "source": [
    "```text\n",
    "* i. Prompt user for command: [store], [generate], [retrieve], [update], or [exit]\n",
    "\n",
    "* ii. If [store]:\n",
    "    - Prompt user for account description, username, and password\n",
    "    - Encrypt password and store in database\n",
    "\n",
    "* iii. If [generate]:\n",
    "    - Generate a random password and display it\n",
    "\n",
    "* iv. If [retrieve]:\n",
    "    - Retrieve and decrypt all stored passwords, display them\n",
    "\n",
    "* v. If [update]:\n",
    "    - Prompt user for ID of password to update\n",
    "    - Update and re-encrypt the password in the database\n",
    "\n",
    "* vi. If [exit]:\n",
    "    - Exit the application\n",
    "\n",
    "* f. Disconnect from the database and close SSH tunnel\n",
    "```"
   ]
  },
  {
   "cell_type": "markdown",
   "metadata": {},
   "source": [
    "**Here's the snippet I used to generate unique passwords:**"
   ]
  },
  {
   "cell_type": "markdown",
   "metadata": {},
   "source": [
    "```python\n",
    "def generate_password(length=12):\n",
    "    alphabet = string.ascii_letters + string.digits + string.punctuation\n",
    "    password = \"\".join(secrets.choice(alphabet) for i in range(length))\n",
    "    return password\n",
    "\n",
    "print(f\"\\nGenerated password: {generate_password()}\")\n",
    "```"
   ]
  },
  {
   "cell_type": "markdown",
   "metadata": {},
   "source": [
    "### 2) The database schema"
   ]
  },
  {
   "cell_type": "markdown",
   "metadata": {},
   "source": [
    "```sql\n",
    "CREATE TABLE passwords (\n",
    "    id INTEGER PRIMARY KEY,\n",
    "    description TEXT NOT NULL,\n",
    "    username TEXT NOT NULL,\n",
    "    password TEXT NOT NULL\n",
    ");\n",
    "```"
   ]
  },
  {
   "cell_type": "markdown",
   "metadata": {},
   "source": [
    "The SQL commands I used in my code were:"
   ]
  },
  {
   "cell_type": "markdown",
   "metadata": {},
   "source": [
    "```sql\n",
    "-- Storing passwords\n",
    "INSERT INTO passwords (id, description, username, password)\n",
    "VALUES (%s, %s, %s, %s);\n",
    "\n",
    "-- Retrieving passwords\n",
    "SELECT * FROM passwords;\n",
    "\n",
    "-- Updating passwords\n",
    "UPDATE passwords SET description=%s, username=%s, password=%s WHERE id=%s;\n",
    "```"
   ]
  },
  {
   "cell_type": "markdown",
   "metadata": {},
   "source": [
    "To execute any SQL commands, I use the `run_query` function which utilizes Pandas to run the SQL query and return the results."
   ]
  },
  {
   "cell_type": "markdown",
   "metadata": {},
   "source": [
    "```python\n",
    "def run_query(sql):\n",
    "    return pd.read_sql_query(sql, connection)\n",
    "```"
   ]
  },
  {
   "cell_type": "markdown",
   "metadata": {},
   "source": [
    "### 3) The database connection\n",
    "\n",
    "I used 127.0.0.1 as the host in my database connection because it refers to the local loopback interface, which allows the application to connect to services running on the same machine. In this case, the database is hosted on the SSH server, and by establishing an SSH tunnel, your code effectively forwards requests from your local machine to the database server’s local address. This setup ensures a secure connection while allowing you to access the database as if it were running locally on your own machine.\n",
    "\n",
    "Let's walk through the logic I implemented to connect to the database and execute queries.\n",
    "\n",
    "1. **SSH Tunnel**: \n",
    "   - First, we create an SSH tunnel to securely connect to the remote database server using the `SSHTunnelForwarder`.\n",
    "   - This is done in the `open_ssh_tunnel` function, which starts the tunnel.\n",
    "\n",
    "2. **MySQL Connection**:\n",
    "   - After the SSH tunnel is established, we connect to the MariaDB database with `pymysql.connect()` in the `mysql_connect` function.\n",
    "   - We use `localhost` and the local bind port provided by the SSH tunnel.\n",
    "\n",
    "3. **Query Execution**:\n",
    "   - The `run_query` function executes SQL queries using `pandas` to easily handle the results.\n",
    "   - We perform operations like storing, retrieving, and updating passwords using SQL commands.\n",
    "\n",
    "4. **Cleanup**:\n",
    "   - Finally, we close the database connection with `mysql_disconnect()` and the SSH tunnel with `close_ssh_tunnel()` when we're done."
   ]
  },
  {
   "cell_type": "markdown",
   "metadata": {},
   "source": [
    "```python\n",
    "import pymysql\n",
    "from sshtunnel import SSHTunnelForwarder\n",
    "\n",
    "# SSH and database connection parameters\n",
    "ssh_host = \"your_ssh_host\"\n",
    "ssh_port = 22\n",
    "ssh_username = \"your_ssh_username\"\n",
    "ssh_password = \"your_ssh_password\"\n",
    "database_username = \"your_db_username\"\n",
    "database_password = \"your_db_password\"\n",
    "database_name = \"your_db_name\"\n",
    "\n",
    "def open_ssh_tunnel():\n",
    "    tunnel = SSHTunnelForwarder(\n",
    "        (ssh_host, ssh_port),\n",
    "        ssh_username=ssh_username,\n",
    "        ssh_password=ssh_password,\n",
    "        remote_bind_address=(\"127.0.0.1\", 3306),\n",
    "    )\n",
    "    tunnel.start()\n",
    "    return tunnel\n",
    "\n",
    "def mysql_connect(tunnel):\n",
    "    connection = pymysql.connect(\n",
    "        host=\"127.0.0.1\",\n",
    "        user=database_username,\n",
    "        passwd=database_password,\n",
    "        db=database_name,\n",
    "        port=tunnel.local_bind_port,\n",
    "    )\n",
    "    return connection\n",
    "\n",
    "def mysql_disconnect(connection):\n",
    "    connection.close()\n",
    "\n",
    "def close_ssh_tunnel(tunnel):\n",
    "    tunnel.close()\n",
    "\n",
    "# Example usage\n",
    "tunnel = open_ssh_tunnel()\n",
    "connection = mysql_connect(tunnel)\n",
    "\n",
    "# Perform database operations here...\n",
    "\n",
    "mysql_disconnect(connection)\n",
    "close_ssh_tunnel(tunnel)\n",
    "\n",
    "```"
   ]
  },
  {
   "cell_type": "markdown",
   "metadata": {},
   "source": [
    "> #### If you'd like to use the code, read it or work with you can check out the [Github repository](https://github.com/john-u/passwords) for the project. Also, I wrote an article on [Relational Databases](https://john-u.com/relational-databases/) if you're interested in learning more about databases."
   ]
  },
  {
   "cell_type": "markdown",
   "metadata": {},
   "source": []
  }
 ],
 "metadata": {
  "kernelspec": {
   "display_name": ".venv",
   "language": "python",
   "name": "python3"
  },
  "language_info": {
   "codemirror_mode": {
    "name": "ipython",
    "version": 3
   },
   "file_extension": ".py",
   "mimetype": "text/x-python",
   "name": "python",
   "nbconvert_exporter": "python",
   "pygments_lexer": "ipython3",
   "version": "3.13.0"
  }
 },
 "nbformat": 4,
 "nbformat_minor": 2
}
