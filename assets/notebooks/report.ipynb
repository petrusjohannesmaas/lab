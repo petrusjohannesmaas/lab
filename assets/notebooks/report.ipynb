{
 "cells": [
  {
   "cell_type": "markdown",
   "metadata": {},
   "source": [
    "# Time Optimization and Productivity"
   ]
  },
  {
   "cell_type": "markdown",
   "metadata": {},
   "source": [
    "---"
   ]
  },
  {
   "cell_type": "markdown",
   "metadata": {},
   "source": [
    "### Introduction"
   ]
  },
  {
   "cell_type": "markdown",
   "metadata": {},
   "source": [
    "---"
   ]
  },
  {
   "cell_type": "markdown",
   "metadata": {},
   "source": [
    "Recently, I read a few of [Cal Newport's](https://calnewport.com/) articles and his book *\"Slow Productivity\"*. Many of Mr. Newport's techniques and ideas are very practical and tangible enough to be tracked (even automated). In this quest I aim to just that by creating Python programs that can help me optimize my learning, generate data based on my performance and ultimately increase my productivity."
   ]
  },
  {
   "cell_type": "markdown",
   "metadata": {},
   "source": [
    "**Some of the key ideas that stood out to me were:**"
   ]
  },
  {
   "cell_type": "markdown",
   "metadata": {},
   "source": [
    "* Multi scale planning\n",
    "* Regular slots of *'protected time'* for a specific activities\n",
    "* Ending your day with a clear and definitive shutdown\n",
    "* An exception handling process when things go wrong\n",
    "* Having rules & limits\n",
    "* Getting more done by doing less"
   ]
  },
  {
   "cell_type": "markdown",
   "metadata": {},
   "source": [
    "It's important to note that I often break many of the rules and ideas described by Cal Newport. This project is more about practically solutions in order to become more productive and tries to emulate his philosophies and concepts at a surface level (by no means serves to replicate it).\n",
    "\n",
    "Gamification applies game-design elements and principles in non-game contexts to increase engagement and motivation. To learn more, check out these [statistics](https://www.amplifai.com/blog/gamification-statistics) and [insights](https://yukaichou.com/) from experts in the field."
   ]
  },
  {
   "cell_type": "markdown",
   "metadata": {},
   "source": [
    "---"
   ]
  },
  {
   "cell_type": "markdown",
   "metadata": {},
   "source": [
    "### Project walkthrough"
   ]
  },
  {
   "cell_type": "markdown",
   "metadata": {},
   "source": [
    "---"
   ]
  },
  {
   "cell_type": "markdown",
   "metadata": {},
   "source": [
    "##### **Step 1:** On the first Sunday afternoon of every month, do a self review to identify the goals and problems you have going on.\n",
    "\n",
    "`review.py` \n",
    "\n",
    "* FastAPI serves an HTML form with input fields. \n",
    "* Timeblocks are updated and maintained on the page as well...if any\n",
    "* The form is submitted to the API and a file is generated with the results."
   ]
  },
  {
   "cell_type": "markdown",
   "metadata": {},
   "source": [
    "##### **Step 2:** You need thorough timeblocking, that takes in to consideration your personal life and work, based on your self review.\n",
    "\n",
    "`timeblocks.json`\n",
    "* Structured representation of time expendature and responsibilities, categorized under weekdays and weekends.\n",
    "* Timeblocks are objects defined by a name, their time slot and the actions that need to be completed.\n",
    "* Activities are limited (to 3 maximum) per timeblock."
   ]
  },
  {
   "cell_type": "markdown",
   "metadata": {},
   "source": [
    "##### **Step 3:** Every night, as part of your *'shut down'*, take account of the days events and record them for later review.\n",
    "\n",
    "`daily_report.py` \n",
    "\n",
    "* Ask the user for the day of the week.\n",
    "* Ask the user the following questions:\n",
    "```text\n",
    "    Q: Were actions executed? (True or false)\n",
    "    Q: Were there any exceptions? (True or false)\n",
    "    Q: Was it a good day? (True or false)\n",
    "    Q: Any memories you'd like to retain?\n",
    "    Q: Any comments?\n",
    "```\n",
    "* Save the report to the database."
   ]
  },
  {
   "cell_type": "markdown",
   "metadata": {},
   "source": [
    "##### **Step 5:** The last Sunday morning of every month, extract the data from the daily reports and convert them to useful metrics.\n",
    "\n",
    "4) `kpi.py`\n",
    "* Perform a `GET` request to the database.\n",
    "* Perform string formatting on the response.\n",
    "* Extract the following KPI's:\n",
    "\n",
    "```text\n",
    "    - Average performance score\n",
    "    - Amount of exceptions\n",
    "    - Amount of good vs bad days\n",
    "    - Average research time\n",
    "    - Total experience points accumulated\n",
    "```\n",
    "* Chart the data and generate a file for it."
   ]
  },
  {
   "cell_type": "markdown",
   "metadata": {},
   "source": [
    "---"
   ]
  },
  {
   "cell_type": "markdown",
   "metadata": {},
   "source": [
    "### Packages and libraries:"
   ]
  },
  {
   "cell_type": "markdown",
   "metadata": {},
   "source": [
    "---"
   ]
  },
  {
   "cell_type": "markdown",
   "metadata": {},
   "source": [
    "* FastAPI\n",
    "* Pydantic\n",
    "* Rich console\n",
    "* Datetime\n",
    "* JMESpath\n",
    "* JSON\n",
    "* Pandas\n",
    "* OS"
   ]
  },
  {
   "cell_type": "markdown",
   "metadata": {},
   "source": [
    "---"
   ]
  },
  {
   "cell_type": "markdown",
   "metadata": {},
   "source": [
    "If you want to see a breakdown of the code and repurpose it for yourself, you can find it in the [Python repository on my Github](code/python)."
   ]
  },
  {
   "cell_type": "markdown",
   "metadata": {},
   "source": [
    "---"
   ]
  }
 ],
 "metadata": {
  "kernelspec": {
   "display_name": "Python 3 (ipykernel)",
   "language": "python",
   "name": "python3"
  },
  "language_info": {
   "codemirror_mode": {
    "name": "ipython",
    "version": 3
   },
   "file_extension": ".py",
   "mimetype": "text/x-python",
   "name": "python",
   "nbconvert_exporter": "python",
   "pygments_lexer": "ipython3",
   "version": "3.12.6"
  }
 },
 "nbformat": 4,
 "nbformat_minor": 4
}
